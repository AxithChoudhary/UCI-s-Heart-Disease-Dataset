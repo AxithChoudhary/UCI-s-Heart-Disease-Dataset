{
  "cells": [
    {
      "cell_type": "markdown",
      "metadata": {
        "colab_type": "text",
        "id": "view-in-github"
      },
      "source": [
        "<a href=\"https://colab.research.google.com/github/AxithChoudhary/UCI-s-Heart-Disease-Dataset/blob/main/UCI%E2%80%99s_Heart_Disease_Inference.ipynb\" target=\"_parent\"><img src=\"https://colab.research.google.com/assets/colab-badge.svg\" alt=\"Open In Colab\"/></a>"
      ]
    },
    {
      "cell_type": "code",
      "execution_count": null,
      "metadata": {
        "id": "sUk4u-ZwkSvo"
      },
      "outputs": [],
      "source": [
        "\n",
        "import warnings\n",
        "warnings.filterwarnings(\"ingnore\")\n",
        "\n",
        "import numpy as np\n",
        "import pandas as pd\n",
        "import joblib\n",
        "from sklearn.metrics import accuracy_score\n",
        "from utils import *\n",
        "from constants import *"
      ]
    },
    {
      "cell_type": "markdown",
      "metadata": {
        "id": "mkoJX_YskdqY"
      },
      "source": [
        "Get Inference Data"
      ]
    },
    {
      "cell_type": "code",
      "execution_count": 3,
      "metadata": {
        "id": "-92c0domkcZP"
      },
      "outputs": [],
      "source": [
        "data=pd.read_csv(\"inference_heart_disease.csv\")\n",
        "data.drop_duplicates(subset=None,inplace=True)\n",
        "data.duplicated().any()\n",
        "inference_data=data.copy()\n",
        "inference_data,labels=inference_data[inference_data.columns.drop('target')],inference_data['target']"
      ]
    },
    {
      "cell_type": "code",
      "execution_count": 4,
      "metadata": {
        "id": "Bl5DktRgp9NQ"
      },
      "outputs": [],
      "source": [
        "inference_data.columns "
      ]
    },
    {
      "cell_type": "code",
      "execution_count": 5,
      "metadata": {
        "id": "keTBCJjRqFKO"
      },
      "outputs": [],
      "source": [
        "inference_data.head()"
      ]
    },
    {
      "cell_type": "markdown",
      "metadata": {
        "id": "dTPZQ7UJqNwz"
      },
      "source": [
        "###Pre-Processing"
      ]
    },
    {
      "cell_type": "code",
      "execution_count": 6,
      "metadata": {
        "id": "kbp3gocJqLrk"
      },
      "outputs": [],
      "source": [
        "\n",
        "features_to_encode = ['thal', 'slope', 'chest_pain_type', 'restecg']\n",
        "encoded_df = pd.DataFrame(columns= ['age', 'sex', 'resting_bp', 'cholestoral', 'fasting_blood_sugar',\n",
        "   'max_hr', 'exang', 'oldpeak', 'num_major_vessels', 'thal_0', 'thal_1',\n",
        "   'thal_2', 'thal_3', 'slope_0', 'slope_1', 'slope_2',\n",
        "   'chest_pain_type_0', 'chest_pain_type_1', 'chest_pain_type_2',\n",
        "   'chest_pain_type_3', 'restecg_0', 'restecg_1', 'restecg_2'])\n",
        "placeholder_df = pd.DataFrame()\n",
        "\n",
        "# One-Hot Encoding using get_dummies for the specified categorical features\n",
        "for f in features_to_encode:\n",
        "    if(f in inference_data.columns):\n",
        "        encoded = pd.get_dummies(inference_data[f])\n",
        "        encoded = encoded.add_prefix(f + '_')\n",
        "        placeholder_df = pd.concat([placeholder_df, encoded], axis=1)\n",
        "    else:\n",
        "        print('Feature not found')\n",
        "\n",
        "# Implement these steps to prevent dimension mismatch during inference\n",
        "for feature in encoded_df.columns:\n",
        "    if feature in inference_data.columns:\n",
        "        encoded_df[feature] = inference_data[feature]\n",
        "    if feature in placeholder_df.columns:\n",
        "        encoded_df[feature] = placeholder_df[feature]\n",
        "# fill all null values\n",
        "encoded_df.fillna(0, inplace=True)\n",
        "\n",
        "from sklearn import preprocessing\n",
        "# normalization\n",
        "val = encoded_df.values \n",
        "min_max_normalizer = preprocessing.MinMaxScaler()\n",
        "norm_val = min_max_normalizer.fit_transform(val)\n",
        "df2 = pd.DataFrame(norm_val)\n",
        "\n",
        "processed_inference_data = df2.copy()\n",
        "processed_inference_data"
      ]
    },
    {
      "cell_type": "code",
      "execution_count": 8,
      "metadata": {
        "id": "KxRjaFJMrSxq"
      },
      "outputs": [],
      "source": [
        "import joblib\n",
        "model=joblib.load(\"models\\axith_model1_adaboost.joblib\")\n",
        "model"
      ]
    },
    {
      "cell_type": "code",
      "execution_count": 9,
      "metadata": {
        "id": "IL0gADI3rkhK"
      },
      "outputs": [],
      "source": [
        "model.predict(processed_inference_data)"
      ]
    },
    {
      "cell_type": "code",
      "execution_count": null,
      "metadata": {
        "id": "4x4Gra4xrtAs"
      },
      "outputs": [],
      "source": []
    }
  ],
  "metadata": {
    "colab": {
      "authorship_tag": "ABX9TyPLJK+e6Bs4QLt0+wAAwUbt",
      "include_colab_link": true,
      "provenance": []
    },
    "kernelspec": {
      "display_name": "Python 3",
      "name": "python3"
    },
    "language_info": {
      "name": "python"
    }
  },
  "nbformat": 4,
  "nbformat_minor": 0
}
